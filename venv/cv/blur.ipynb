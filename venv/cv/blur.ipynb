{
 "cells": [
  {
   "cell_type": "code",
   "execution_count": 1,
   "metadata": {},
   "outputs": [],
   "source": [
    "import cv2 as cv\n",
    "import numpy as np\n",
    "import matplotlib.pyplot as plt\n"
   ]
  },
  {
   "cell_type": "code",
   "execution_count": null,
   "metadata": {},
   "outputs": [],
   "source": []
  },
  {
   "cell_type": "code",
   "execution_count": 6,
   "metadata": {},
   "outputs": [
    {
     "name": "stdout",
     "output_type": "stream",
     "text": [
      "(915L, 948L, 3L)\n"
     ]
    }
   ],
   "source": [
    "img = cv.imread('../image/solt.tif')\n",
    "print img.shape\n",
    "blur = cv.blur(img,(5,5))\n",
    "\n",
    "gau = cv.GaussianBlur(img,(5,5),0)\n",
    "\n",
    "media = cv.medianBlur(img,5)\n",
    "cv.imshow('blur',blur)\n",
    "#cv.imshow('media',media)\n",
    "#cv.imshow('Gau',gau)\n",
    "cv.imshow('solt', img)\n",
    "cv.waitKey(0) & 0xFF\n",
    "cv.destroyAllWindows()"
   ]
  }
 ],
 "metadata": {
  "kernelspec": {
   "display_name": "Python 2",
   "language": "python",
   "name": "python2"
  },
  "language_info": {
   "codemirror_mode": {
    "name": "ipython",
    "version": 2
   },
   "file_extension": ".py",
   "mimetype": "text/x-python",
   "name": "python",
   "nbconvert_exporter": "python",
   "pygments_lexer": "ipython2",
   "version": "2.7.15"
  }
 },
 "nbformat": 4,
 "nbformat_minor": 2
}

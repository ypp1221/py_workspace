{
 "cells": [
  {
   "cell_type": "code",
   "execution_count": 2,
   "metadata": {},
   "outputs": [],
   "source": [
    "import cv2 as cv\n",
    "import numpy as np"
   ]
  },
  {
   "cell_type": "code",
   "execution_count": null,
   "metadata": {},
   "outputs": [],
   "source": []
  },
  {
   "cell_type": "code",
   "execution_count": 8,
   "metadata": {},
   "outputs": [],
   "source": [
    "cap = cv.VideoCapture(0)\n",
    "while True:\n",
    "    ret,frame = cap.read()\n",
    "    hsv = cv.cvtColor(frame,cv.COLOR_BGR2HSV) #获得hsv颜色模型\n",
    "    lower_blue  = np.array([110,50,50])\n",
    "    upper_blue = np.array([130,255,255])\n",
    "    mask = cv.inRange(hsv,lower_blue,upper_blue)#追踪在这个颜色范围内的物体，背景颜色由于\n",
    "    #追踪不到，所以为0，物体的颜色为白色\n",
    "    res = cv.bitwise_and(frame,frame,mask= mask)\n",
    "    cv.imshow('frame',frame)\n",
    "    cv.imshow('hsv',mask)\n",
    "    cv.imshow('res',res)\n",
    "    k = cv.waitKey(5) & 0xFF\n",
    "    if k == 27:\n",
    "        break;\n",
    "cv.destroyAllWindows()"
   ]
  }
 ],
 "metadata": {
  "kernelspec": {
   "display_name": "Python 2",
   "language": "python",
   "name": "python2"
  },
  "language_info": {
   "codemirror_mode": {
    "name": "ipython",
    "version": 2
   },
   "file_extension": ".py",
   "mimetype": "text/x-python",
   "name": "python",
   "nbconvert_exporter": "python",
   "pygments_lexer": "ipython2",
   "version": "2.7.15"
  }
 },
 "nbformat": 4,
 "nbformat_minor": 2
}

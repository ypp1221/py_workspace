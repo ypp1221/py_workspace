{
 "cells": [
  {
   "cell_type": "code",
   "execution_count": null,
   "metadata": {},
   "outputs": [],
   "source": [
    "import cv2 as cv\n",
    "import numpy as np\n",
    "import matplotlib.pyplot as plt"
   ]
  },
  {
   "cell_type": "code",
   "execution_count": null,
   "metadata": {},
   "outputs": [],
   "source": [
    "img = cv.imread('../image/houzi.jpg',1)\n",
    "cv.imshow('im',img)\n",
    "cv.waitKey(0)\n",
    "cv.destroyAllWindows()\n",
    "print img.shape\n",
    "print img.size\n",
    "print img.dtype"
   ]
  },
  {
   "cell_type": "code",
   "execution_count": null,
   "metadata": {},
   "outputs": [],
   "source": [
    "#图像通道的分离与融合\n",
    "#cv.split() is a costly operation,so only usr it if necessary,numpy indexing is \n",
    "#much more efficient and should be uesd if possible\n",
    "b,g,r = cv.split(img)\n",
    "img = cv.merge((b,g,r))\n",
    "plt.subplot(231),plt.imshow(b),plt.title('b')\n",
    "plt.subplot(232),plt.imshow(g),plt.title('g')\n",
    "plt.subplot(233),plt.imshow(r),plt.title('r')\n",
    "\n",
    "plt.subplot(234),plt.imshow(img),plt.title('or')\n",
    "plt.show()\n",
    "\n",
    "print b.shape"
   ]
  },
  {
   "cell_type": "code",
   "execution_count": null,
   "metadata": {},
   "outputs": [],
   "source": []
  }
 ],
 "metadata": {
  "kernelspec": {
   "display_name": "Python 2",
   "language": "python",
   "name": "python2"
  },
  "language_info": {
   "codemirror_mode": {
    "name": "ipython",
    "version": 2
   },
   "file_extension": ".py",
   "mimetype": "text/x-python",
   "name": "python",
   "nbconvert_exporter": "python",
   "pygments_lexer": "ipython2",
   "version": "2.7.15"
  }
 },
 "nbformat": 4,
 "nbformat_minor": 2
}

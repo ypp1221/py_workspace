{
 "cells": [
  {
   "cell_type": "code",
   "execution_count": 15,
   "metadata": {},
   "outputs": [],
   "source": [
    "import cv2 as cv\n",
    "import numpy as np\n",
    "import matplotlib.pyplot as plt\n"
   ]
  },
  {
   "cell_type": "code",
   "execution_count": 24,
   "metadata": {},
   "outputs": [
    {
     "name": "stdout",
     "output_type": "stream",
     "text": [
      "9.08985507246e-05\n"
     ]
    },
    {
     "data": {
      "text/plain": [
       "\"\\nimg2 = img1[0:200,0:200]\\ndst = cv.add(img1,img2)\\ncv.imshow('dst',dst)\\ncv.waitKey(0)\\ncv.destroyAllWindows()\\n\""
      ]
     },
     "execution_count": 24,
     "metadata": {},
     "output_type": "execute_result"
    }
   ],
   "source": [
    "img1 = cv.imread('../image/houzi.jpg',0)\n",
    "t1 = cv.getTickCount()\n",
    "img1 = cv.bitwise_not(img1)\n",
    "t2 = cv.getTickCount()\n",
    "#tim = (t2-t1)/cv.getTickFrequency\n",
    "\n",
    "print (t2-t1)/cv.getTickFrequency()\n",
    "'''\n",
    "img2 = img1[0:200,0:200]\n",
    "dst = cv.add(img1,img2)\n",
    "cv.imshow('dst',dst)\n",
    "cv.waitKey(0)\n",
    "cv.destroyAllWindows()\n",
    "'''"
   ]
  }
 ],
 "metadata": {
  "kernelspec": {
   "display_name": "Python 2",
   "language": "python",
   "name": "python2"
  },
  "language_info": {
   "codemirror_mode": {
    "name": "ipython",
    "version": 2
   },
   "file_extension": ".py",
   "mimetype": "text/x-python",
   "name": "python",
   "nbconvert_exporter": "python",
   "pygments_lexer": "ipython2",
   "version": "2.7.15"
  }
 },
 "nbformat": 4,
 "nbformat_minor": 2
}

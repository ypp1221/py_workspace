{
 "cells": [
  {
   "cell_type": "code",
   "execution_count": 3,
   "metadata": {},
   "outputs": [],
   "source": [
    "import cv2 as cv\n",
    "import numpy as np\n",
    "import matplotlib.pyplot as plt"
   ]
  },
  {
   "cell_type": "code",
   "execution_count": 10,
   "metadata": {},
   "outputs": [],
   "source": [
    "\n",
    "\"\"\"\n",
    "1.图像的平移warpAffine(img,M(cols,rows))\n",
    "2.图像的旋转getRotationMatrix2D((cols/2,rows/2),90,1)\n",
    "\"\"\"\n",
    "img = cv.imread('../image/houzi.jpg',0)\n",
    "\n",
    "rows,cols = img.shape[:2]\n",
    "M = np.float32([[1,0,100],[0,1,50]])\n",
    "dst = cv.warpAffine(img,M,(cols,rows))\n",
    "#Third argument of the cv2.warpAffine() \n",
    "#function is the size of the output image,\n",
    "#which should be in the form of (width, height). \n",
    "#Remember width = number of columns, and height = number of rows.\n",
    "\n",
    "M1 = cv.getRotationMatrix2D((cols/2,rows/2),90,1)\n",
    "m = cv.warpAffine(img,M1,(cols,rows))\n",
    "cv.imshow('m',m)\n",
    "cv.imshow('dst',dst)\n",
    "cv.waitKey(0)\n",
    "cv.destroyAllWindows()\n"
   ]
  }
 ],
 "metadata": {
  "kernelspec": {
   "display_name": "Python 2",
   "language": "python",
   "name": "python2"
  },
  "language_info": {
   "codemirror_mode": {
    "name": "ipython",
    "version": 2
   },
   "file_extension": ".py",
   "mimetype": "text/x-python",
   "name": "python",
   "nbconvert_exporter": "python",
   "pygments_lexer": "ipython2",
   "version": "2.7.15"
  }
 },
 "nbformat": 4,
 "nbformat_minor": 2
}

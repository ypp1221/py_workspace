{
 "cells": [
  {
   "cell_type": "code",
   "execution_count": 1,
   "metadata": {},
   "outputs": [],
   "source": [
    "import cv2 as cv\n",
    "import numpy as np\n"
   ]
  },
  {
   "cell_type": "code",
   "execution_count": 13,
   "metadata": {},
   "outputs": [
    {
     "name": "stdout",
     "output_type": "stream",
     "text": [
      "(400L, 200L)\n",
      "(400L, 200L, 3L)\n"
     ]
    }
   ],
   "source": [
    "img1 = cv.imread('../image/houzi.jpg',1)\n",
    "roi = img1[100:500,200:400]\n",
    "dst = cv.cvtColor(roi,cv.COLOR_BGR2GRAY)\n",
    "backface = cv.cvtColor(dst,cv.COLOR_GRAY2BGR)\n",
    "print dst.shape\n",
    "print backface.shape\n",
    "img1[100:500,200:400] = backface\n",
    "cv.imshow('backface',roi)\n",
    "cv.imshow('dst',dst)\n",
    "cv.imshow('img1',img1)\n",
    "k = cv.waitKey(0) & 0xFF\n",
    "cv.destroyAllWindows()"
   ]
  }
 ],
 "metadata": {
  "kernelspec": {
   "display_name": "Python 2",
   "language": "python",
   "name": "python2"
  },
  "language_info": {
   "codemirror_mode": {
    "name": "ipython",
    "version": 2
   },
   "file_extension": ".py",
   "mimetype": "text/x-python",
   "name": "python",
   "nbconvert_exporter": "python",
   "pygments_lexer": "ipython2",
   "version": "2.7.15"
  }
 },
 "nbformat": 4,
 "nbformat_minor": 2
}

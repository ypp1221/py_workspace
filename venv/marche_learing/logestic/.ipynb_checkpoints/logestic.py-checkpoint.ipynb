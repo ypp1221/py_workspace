{
 "cells": [
  {
   "cell_type": "code",
   "execution_count": 1,
   "metadata": {},
   "outputs": [],
   "source": [
    "import matplotlib.pyplot as plt\n",
    "import numpy as np\n",
    "import os"
   ]
  },
  {
   "cell_type": "code",
   "execution_count": 63,
   "metadata": {},
   "outputs": [],
   "source": [
    "#获得数据\n",
    "def getdata():\n",
    "    data = []\n",
    "    lable = []\n",
    "    with open('testSet.txt','r') as f:\n",
    "        lines = f.readlines()\n",
    "        for line in lines:\n",
    "            l = line.strip().split()\n",
    "            data.append([1,float(l[0]),float(l[1])])\n",
    "            lable.append(int(l[2]))\n",
    "    return data,lable"
   ]
  },
  {
   "cell_type": "code",
   "execution_count": 114,
   "metadata": {},
   "outputs": [],
   "source": [
    "def sigmod(x):\n",
    "    return 1.0/(1+np.exp(-x))\n",
    "#梯度下降\n",
    "def gradAscent(data,lable):\n",
    "    data = np.mat(data)\n",
    "    lable = np.mat(lable).\n",
    "    alpha = 0.001\n",
    "    num = 500\n",
    "    m,n = np.shape(data)\n",
    "    w = np.zeros((n,1))\n",
    "    w = np.mat(w)\n",
    "    for i in range(num):\n",
    "        z = data*w\n",
    "        a = sigmod(z)\n",
    "        dz = a - lable\n",
    "        w = w - alpha * data.T * dz\n",
    "    return w\n",
    "        \n",
    "    "
   ]
  },
  {
   "cell_type": "code",
   "execution_count": 138,
   "metadata": {},
   "outputs": [],
   "source": [
    "#绘制样本\n",
    "def showSample(data,lable,w):\n",
    "    data = np.array(data)\n",
    "    m = np.shape(data)[0] #获得样本个数\n",
    "    z_x = [ ]; z_y = [ ]\n",
    "    f_x = [ ]; f_y = [ ]\n",
    "    for i in range(m):\n",
    "        if int(lable[i]) ==1:\n",
    "            \n",
    "            z_x.append(data[i,1])\n",
    "            z_y.append(data[i,2])\n",
    "        elif int(lable[i]) == 0:\n",
    "            f_x.append(data[i,1])\n",
    "            f_y.append(data[i,2])\n",
    "        else:\n",
    "            print \"数据类型出现错误\"\n",
    "            break\n",
    "    x = np.arange(-4,5,0.1)\n",
    "    y = -(float(w[0]) + float(w[1]) * x)/float(w[2])\n",
    "    plt.subplot(111),plt.scatter(z_x,z_y,c = 'red',s = 20,marker= 's', alpha= 0.5)\n",
    "    plt.subplot(111),plt.scatter(f_x,f_y,c = 'green', s= 20, alpha= 0.5)\n",
    "    plt.subplot(111),plt.plot(x,y)\n",
    "    plt.show()\n",
    "            "
   ]
  },
  {
   "cell_type": "code",
   "execution_count": 139,
   "metadata": {},
   "outputs": [
    {
     "name": "stdout",
     "output_type": "stream",
     "text": [
      "<class 'numpy.matrixlib.defmatrix.matrix'>\n"
     ]
    },
    {
     "data": {
      "image/png": "[encoded data removed]",
      "text/plain": [
       "<Figure size 432x288 with 1 Axes>"
      ]
     },
     "metadata": {
      "needs_background": "light"
     },
     "output_type": "display_data"
    }
   ],
   "source": [
    "data,lable = getdata()\n",
    "w = gradAscent(data,lable)\n",
    "showSample(data,lable,w)\n"
   ]
  },
  {
   "cell_type": "code",
   "execution_count": null,
   "metadata": {},
   "outputs": [],
   "source": []
  }
 ],
 "metadata": {
  "kernelspec": {
   "display_name": "Python 2",
   "language": "python",
   "name": "python2"
  },
  "language_info": {
   "codemirror_mode": {
    "name": "ipython",
    "version": 2
   },
   "file_extension": ".py",
   "mimetype": "text/x-python",
   "name": "python",
   "nbconvert_exporter": "python",
   "pygments_lexer": "ipython2",
   "version": "2.7.15"
  }
 },
 "nbformat": 4,
 "nbformat_minor": 2
}
